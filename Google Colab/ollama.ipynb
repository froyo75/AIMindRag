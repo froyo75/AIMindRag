{
  "nbformat": 4,
  "nbformat_minor": 0,
  "metadata": {
    "colab": {
      "provenance": [],
      "gpuType": "T4"
    },
    "kernelspec": {
      "name": "python3",
      "display_name": "Python 3"
    },
    "language_info": {
      "name": "python"
    },
    "accelerator": "GPU"
  },
  "cells": [
    {
      "cell_type": "code",
      "source": [
        "! nvidia-smi"
      ],
      "metadata": {
        "id": "VuPDhK1Vdo4f"
      },
      "execution_count": null,
      "outputs": []
    },
    {
      "cell_type": "code",
      "execution_count": null,
      "metadata": {
        "id": "ukrm9ck0aWnj"
      },
      "outputs": [],
      "source": [
        "!curl https://ollama.ai/install.sh | sh"
      ]
    },
    {
      "cell_type": "code",
      "source": [
        "!wget https://bin.equinox.io/c/bNyj1mQVY4c/ngrok-v3-stable-linux-amd64.tgz"
      ],
      "metadata": {
        "id": "hX6tQI2CeeFA"
      },
      "execution_count": null,
      "outputs": []
    },
    {
      "cell_type": "code",
      "source": [
        "!ls"
      ],
      "metadata": {
        "id": "P9s5n22Mer5f"
      },
      "execution_count": null,
      "outputs": []
    },
    {
      "cell_type": "code",
      "source": [
        "!tar xvzf ngrok-v3-stable-linux-amd64.tgz"
      ],
      "metadata": {
        "id": "Qy3vF81ietkn"
      },
      "execution_count": null,
      "outputs": []
    },
    {
      "cell_type": "code",
      "source": [
        "!NGROK_PORT=\"11434\""
      ],
      "metadata": {
        "id": "qbhNw29te9YQ"
      },
      "execution_count": null,
      "outputs": []
    },
    {
      "cell_type": "code",
      "source": [
        "!./ngrok config add-authtoken <YOUR_NGROK_AUTHTOKEN>"
      ],
      "metadata": {
        "id": "uacuFuiSmYOZ"
      },
      "execution_count": null,
      "outputs": []
    },
    {
      "cell_type": "code",
      "source": [
        "!export OLLAMA_KEEP_ALIVE=24h\n",
        "!export OLLAMA_MAX_LOADED_MODELS=2\n",
        "!ollama serve & ./ngrok http 11434 --host-header=\"localhost:11434\" --log stdout"
      ],
      "metadata": {
        "id": "8RKMx-1vezte"
      },
      "execution_count": null,
      "outputs": []
    }
  ]
}